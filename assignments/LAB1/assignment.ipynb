{
 "cells": [
  {
   "cell_type": "markdown",
   "metadata": {
    "colab_type": "text",
    "id": "MLC6bgG7vhK3"
   },
   "source": [
    "# Lab 1: Algorithmic Decision Making 1\n",
    "\n",
    "The purpose of this assignment is for you to gain experience with basic methods for training, evaluating, and critiquing machine learning models\n",
    "using some of the most common Python machine learning libraries:\n",
    " - [Matplotlib](https://matplotlib.org/)\n",
    " - [NumPy](https://numpy.org/)\n",
    " - [Pandas](https://pandas.pydata.org/)\n",
    " - [scikit-learn](https://scikit-learn.org/stable/index.html)\n",
    "\n",
    "This assignment is intended to be done collaboratively.  You will work as a group to complete the coding and written portions of this assignment.  However, **each group member will submit a copy of the code** via the autograder and **the group will jointly submit one version of the written portion** of the assignment via Canvas."
   ]
  },
  {
   "cell_type": "markdown",
   "metadata": {},
   "source": [
    "## Part 0: Reading the Readme\n",
    "\n",
    "Before continuing with this notebook, first make sure to thoroughly read the `README.md` file at the base of this repository.\n",
    "The readme file contains useful information that you will use throughout all of your assignments.\n",
    "Refer back to this file whenever you have questions in this or future assignments.\n",
    "\n",
    "If you need more help with machine learning basics,\n",
    "we recommend seeing if there is a corresponding module in Google's [Introduction to Machine Learning Crash Course](https://developers.google.com/machine-learning/crash-course/ml-intro)."
   ]
  },
  {
   "cell_type": "markdown",
   "metadata": {
    "colab_type": "text",
    "id": "a3D7lMy3vhK5"
   },
   "source": [
    "## Part 1: Loading Data\n",
    "\n",
    "First, we will import modules that will let us do lots quickly.\n",
    "We'll import some powerful tools for importing and working with data, especially `pandas`.\n",
    "\n",
    "Pandas has been in development since 2008, largely through the efforts of one developer.\n",
    "For more on the history see [here](https://en.wikipedia.org/wiki/Pandas_(software).\n",
    "\n",
    "[Matplotlib](https://matplotlib.org/) is a plotting library for Python built upon the concepts and semantics of [MATLAB](https://en.wikipedia.org/wiki/MATLAB),\n",
    "hence the name Matplotlib (\"MATlab PLOTting LIBrary\").\n",
    "Matplotlib is one of the most popular Python plotting libraries\n",
    "(with one of the others being [seaborn](https://seaborn.pydata.org/)).\n",
    "Although for simple plots (like histograms),\n",
    "you can sometimes get away with using [simpler methods](https://pandas.pydata.org/pandas-docs/stable/user_guide/visualization.html).\n",
    "\n",
    "[NumPy](https://numpy.org/) is a scientific computing package for Python that is ubiquitous in the data science / machine learning community.\n",
    "The most commonly used feature of NumPy is its [ndarray](https://numpy.org/doc/stable/reference/generated/numpy.ndarray.html)\n",
    "(N-dimensional array),\n",
    "which is an array that can exist in more than one dimension.\n",
    "In 1-dimension an ndarray is like a list,\n",
    "in 2-dimensions an ndarray is like a grid,\n",
    "in 3-dimensions an ndarray is like a cube,\n",
    "and in 4-dimensions and up an ndarray is like a hypercube.\n",
    "You can use the `shape` attribute to see the dimensions of an ndarray.\n",
    "\n",
    "Throughout this course, we will be using the [Pandas library](https://pandas.pydata.org/) to manipulate data.\n",
    "This library is very large and can be quite complex,\n",
    "so if you want additional information or practice\n",
    "we recommend the official [Pandas Tutorial](https://pandas.pydata.org/docs/getting_started/intro_tutorials/index.html).\n",
    "Throughout this course, you will be heavily using [Pandas DataFrames](https://pandas.pydata.org/pandas-docs/stable/reference/api/pandas.DataFrame.html)\n",
    "(a DataFrame is also frequently just called a \"frame\").\n",
    "\n",
    "scikit-learn is a large library that contains tools for classification, regression, clustering, feature selection, evaluation, and preprocessing.\n",
    "We will also refer to \"scikit-learn\" as \"sklearn\".\n",
    "Since Python doesn't like package names with a dash, `sklearn` is what you use to import the library in Python.\n",
    "It uses a fairly consistent API that lets you swap out components without needing the change your entire infrastructure,\n",
    "e.g., you can swap out the type of classifier you use without needing to change the rest of your code.\n",
    "It is so ubiquitous in machine learning that other machine learning libraries will often use the same terminology and methods (which we will discuss later).\n",
    "If you need instruction on scikit-learn, we recommend this [text tutorial](https://scikit-learn.org/stable/getting_started.html)\n",
    "and this [video tutorial](https://www.youtube.com/watch?v=0B5eIE_1vpU).\n",
    "sklearn also has a very complete [user guide](https://scikit-learn.org/stable/user_guide.html)\n",
    "and many curated [examples](https://scikit-learn.org/stable/auto_examples/index.html)."
   ]
  },
  {
   "cell_type": "code",
   "execution_count": null,
   "metadata": {
    "colab": {},
    "colab_type": "code",
    "id": "Z5Ie4zRlvhK6"
   },
   "outputs": [],
   "source": [
    "# Import all libraries we will need.\n",
    "# It is good style to make all your imports in the first cell of the notebook.\n",
    "\n",
    "import random\n",
    "import warnings\n",
    "\n",
    "import matplotlib.pyplot\n",
    "import numpy\n",
    "import pandas\n",
    "import sklearn.base\n",
    "import sklearn.datasets\n",
    "import sklearn.exceptions\n",
    "import sklearn.linear_model\n",
    "import sklearn.metrics\n",
    "import sklearn.tree\n",
    "\n",
    "# Set a global seed in case we need some randomness.\n",
    "random.seed(146)\n",
    "\n",
    "# We are going to ignore a specific warning from scikit-learn.\n",
    "# In real-world code you would confront this warning with better data munging and hyperparameter tweaking,\n",
    "# but those are not the focus of this course.\n",
    "warnings.simplefilter(\"ignore\", category = sklearn.exceptions.ConvergenceWarning)"
   ]
  },
  {
   "cell_type": "markdown",
   "metadata": {
    "colab_type": "text",
    "id": "wyShCQZCvhK-"
   },
   "source": [
    "The data we are using for this lab is from the [\"Communities and Crime\" dataset](https://archive.ics.uci.edu/dataset/183/communities+and+crime)\n",
    "available at [UC Irvine's Machine Learning Repository](https://archive.ics.uci.edu/datasets).\n",
    "It includes data about the crime rates in various communities,\n",
    "including information about the socioeconomic, racial, and policing status in each community.\n",
    "\n",
    "We can easily load this data using the [`pandas.read_csv`](https://pandas.pydata.org/pandas-docs/stable/reference/api/pandas.read_csv.html) function."
   ]
  },
  {
   "cell_type": "code",
   "execution_count": null,
   "metadata": {
    "colab": {
     "base_uri": "https://localhost:8080/",
     "height": 414
    },
    "colab_type": "code",
    "executionInfo": {
     "elapsed": 892,
     "status": "error",
     "timestamp": 1599233556911,
     "user": {
      "displayName": "Andrew Thach",
      "photoUrl": "",
      "userId": "07507917617390649694"
     },
     "user_tz": 420
    },
    "id": "JMW4eiP-vhK_",
    "outputId": "10cdc80c-d779-472a-8d28-7f1e8ec9522f"
   },
   "outputs": [],
   "source": [
    "communities_data = pandas.read_csv(\"communities.csv\")\n",
    "\n",
    "# The last value in an iPython code cell will get output.\n",
    "communities_data"
   ]
  },
  {
   "cell_type": "markdown",
   "metadata": {},
   "source": [
    "We can also see more specific stats about a DataFrame using the \n",
    "[DataFrame.info()](https://pandas.pydata.org/pandas-docs/stable/reference/api/pandas.DataFrame.info.html)\n",
    "and [DataFrame.describe()](https://pandas.pydata.org/pandas-docs/stable/reference/api/pandas.DataFrame.describe.html) methods.\n",
    "\n",
    "The [DataFrame.info()](https://pandas.pydata.org/pandas-docs/stable/reference/api/pandas.DataFrame.info.html) method gives us high-level information about the frame itself."
   ]
  },
  {
   "cell_type": "code",
   "execution_count": null,
   "metadata": {},
   "outputs": [],
   "source": [
    "communities_data.info()"
   ]
  },
  {
   "cell_type": "markdown",
   "metadata": {},
   "source": [
    "Whereas the [DataFrame.describe()](https://pandas.pydata.org/pandas-docs/stable/reference/api/pandas.DataFrame.describe.html)\n",
    "gives us information all all **numeric** columns in the frame."
   ]
  },
  {
   "cell_type": "code",
   "execution_count": null,
   "metadata": {},
   "outputs": [],
   "source": [
    "communities_data.describe()"
   ]
  },
  {
   "cell_type": "markdown",
   "metadata": {},
   "source": [
    "<h3 style=\"color: green; font-size: x-large\";>♦ Group Break</h3>\n",
    "\n",
    "Take a moment to examine the data with your group.\n",
    "Read the [description of the dataset](https://archive.ics.uci.edu/dataset/183/communities+and+crime)\n",
    "and make sure you can match what you read on the webpage with what you see in the actual data.\n",
    "\n",
    "Some potential things to discuss with your group:\n",
    " - Are there any flaws in the collection methodology for this dataset?\n",
    " - Does this data contain any biasses?\n",
    " - How could this data be ethically used?\n",
    " - How could this data be unethically used?"
   ]
  },
  {
   "cell_type": "markdown",
   "metadata": {},
   "source": [
    "## Part 2: Features and Labels\n",
    "\n",
    "The first step when working with data (after loading it) is to define the features ($ X $) and labels ($ Y $).\n",
    "\n",
    "[Features](https://en.wikipedia.org/wiki/Feature_(machine_learning)) are the meaningful numbers that we associate with a data point.\n",
    "Our communities dataset has 123 columns, 122 of those are features.\n",
    "Some of the features in our dataset include `population`, `householdsize`, and `PolicCars`.\n",
    "Features are collectively referred to using the $ X $ variable,\n",
    "with specific instances represented with $ x $.\n",
    "Our machine learning models can have anywhere from a few to trillions of features.\n",
    "(Technically with the type of machine learning we will discuss in this class, models can have any finite number of features.)\n",
    "\n",
    "A label is the target of our predictive model.\n",
    "A label can be just about anything,\n",
    "but the most common types of labels are\n",
    "binary/boolean values (e.g., `true`/`false`, `yes`/`no`, `1`/`0`),\n",
    "members of a specified class (e.g., `dog` and `cat` can be valid labels for the `animal` class),\n",
    "or continuous values (often between 0.0 and 1.0).\n",
    "Features are collectively referred to using the $ Y $ variable,\n",
    "with specific instances represented with $ y $.\n",
    "\n",
    "In our dataset, the `ViolentCrimesPerPop` column is our label.\n",
    "If we take a look at this column, we can see that it is a float."
   ]
  },
  {
   "cell_type": "code",
   "execution_count": null,
   "metadata": {},
   "outputs": [],
   "source": [
    "communities_data['ViolentCrimesPerPop'].describe()"
   ]
  },
  {
   "cell_type": "markdown",
   "metadata": {},
   "source": [
    "However if we look even closer,\n",
    "we can see that there are only two values here: 0.0 and 1.0."
   ]
  },
  {
   "cell_type": "code",
   "execution_count": null,
   "metadata": {},
   "outputs": [],
   "source": [
    "communities_data['ViolentCrimesPerPop'].unique()"
   ]
  },
  {
   "cell_type": "markdown",
   "metadata": {},
   "source": [
    "So even through the column is continuous,\n",
    "the label is actually binary.\n",
    "Where 1.0 represents a high rate of violent crime in the community,\n",
    "and 0.0 represents a low rate of violent crime in the community."
   ]
  },
  {
   "cell_type": "markdown",
   "metadata": {},
   "source": [
    "Before we work more with our data, we are going to shuffle it.\n",
    "It is almost always a good idea to shuffle your data before working with it in machine learning to avoid seeing patterns that are not representative of the entire dataset."
   ]
  },
  {
   "cell_type": "code",
   "execution_count": null,
   "metadata": {},
   "outputs": [],
   "source": [
    "communities_data = communities_data.sample(frac = 1, ignore_index = True, random_state = 146)\n",
    "communities_data"
   ]
  },
  {
   "cell_type": "markdown",
   "metadata": {},
   "source": [
    "The data should show up in a different order than it did before.\n",
    "Also note that we set the seed (`random_state`) for our shuffle.\n",
    "So technically, this notebook will always give the same order.\n",
    "That may seem to defeat the purpose of shuffling, but we do it for educational purposes.\n",
    "It would be really hard to write an assignment without knowing what the data looks like.\n",
    "In a real-world setting, you would set the random seed at the beginning of your process and print the seed just in case you need it later."
   ]
  },
  {
   "cell_type": "markdown",
   "metadata": {
    "colab_type": "text",
    "id": "8lRdwhZXvhLP"
   },
   "source": [
    "<h3 style=\"color: darkorange; font-size: x-large\";>★ Task 2.A</h3>\n",
    "\n",
    "Complete the function below that takes in a dataset as a Pandas DataFrame and the name of the label column,\n",
    "and return the features (as a [Pandas DataFrame](https://pandas.pydata.org/pandas-docs/stable/reference/api/pandas.DataFrame.html))\n",
    "and labels (as a [Pandas Series](https://pandas.pydata.org/pandas-docs/stable/reference/api/pandas.Series.html)).\n",
    "The original DataFrame passed into the function should not be modified,\n",
    "and the returned features should not contain the label column."
   ]
  },
  {
   "cell_type": "code",
   "execution_count": null,
   "metadata": {
    "colab": {},
    "colab_type": "code",
    "id": "f5GFkffsvhLP"
   },
   "outputs": [],
   "source": [
    "def slice_labels(frame, label_column_name):\n",
    "    \"\"\"\n",
    "    Take in a dataset as a Pandas DataFrame and the name of the label column,\n",
    "    and return the features (as a DataFrame) and labels (as a Series).\n",
    "    \n",
    "    Returns:\n",
    "        A copy of the passed in frame without the label column.\n",
    "        A copy of the label column as a Pandas Series.\n",
    "    \"\"\"\n",
    "\n",
    "    return NotImplemented, NotImplemented\n",
    "\n",
    "communities_features, communities_labels = slice_labels(communities_data, 'ViolentCrimesPerPop')\n",
    "if (communities_features is NotImplemented):\n",
    "    print(\"Using fake data!\")\n",
    "    \n",
    "    # This notebook will use fake data until you implement the above function.\n",
    "    communities_features, communities_labels = sklearn.datasets.make_classification(\n",
    "            n_samples = 2000, n_features = len(communities_data.columns) - 1, random_state = 146)\n",
    "\n",
    "    # Convert the fake data from numpy to pandas.\n",
    "    communities_features = pandas.DataFrame(communities_features)\n",
    "    communities_labels = pandas.Series(communities_labels).astype(numpy.float64)\n",
    "\n",
    "print(\"Features have %d rows and %d columns.\" % (len(communities_features), len(communities_features.columns)))\n",
    "\n",
    "print(\"First 10 rows of features (only first 5 columns):\")\n",
    "print(communities_features[communities_features.columns[:5]].head(10))\n",
    "\n",
    "print(\"First 10 labels:\")\n",
    "communities_labels.head(10)"
   ]
  },
  {
   "cell_type": "markdown",
   "metadata": {},
   "source": [
    "Now that we have our data as features and labels, it is time to **split** our data.\n",
    "Before we jump into the details of splitting data, let's imagine a situation that shows why we need to split up our data.\n",
    "Imagine we make a classifier that just remembers every single data point it has ever seen.\n",
    "So on `fit()`, all it does is store each data point along with its label.\n",
    "Then when it comes time to predict, the classifier will just look to see if it has seen the point before.\n",
    "If it has seen the point it returns the real label,\n",
    "and if it has not seen the point it returns a random label.\n",
    "\n",
    "If we train this classifier with `communities_features` like we have with the classifiers we have been working with earlier in this assignment,\n",
    "then this classifier will always score 100% (since it has seen every single point).\n",
    "But as soon as we ask the classifier to predict on new data,\n",
    "it will just give random predictions.\n",
    "So in testing it will do perfect, but in the real world it will perform poorly.\n",
    "\n",
    "In this case it is easy to see that our classifier will never work in the real world,\n",
    "but it is easy to [unintentionally make models that memorize data points](https://bair.berkeley.edu/blog/2019/08/13/memorization/)\n",
    "(especially if you are using neural networks).\n",
    "So to help avoid this, we split our data into multiple non-overlapping parts: [train and test](https://en.wikipedia.org/wiki/Training,_validation,_and_test_data_sets).\n",
    "The *train dataset* (also called \"train set\", \"train split\", or just \"train\") is the data that we will use to train/fit our models.\n",
    "We can also compute our evaluation metrics (e.g. accuracy) on our train split,\n",
    "but the resulting score is just used for debugging purposes.\n",
    "The *test dataset* (also called \"test set\", \"test split\", or just \"test\") is the data that we will officially compute our evaluation metrics on.\n",
    "The test set should never be used for any training purposes and should remain secret until your model is ready to be evaluated.\n",
    "It is considered cheating if information \"leaks\" between the two data splits.\n",
    "\n",
    "<center><img src=\"predictive_models.png\" width=\"500px\"/></center>\n",
    "<center style='font-size: small'>Comic courtesy of <a href='https://xkcd.com/2169/'>xkcd</a>.</center>\n",
    "<center style='font-size: small'>When you don't split your data properly, you may unknowingly leak information.</center>\n",
    "\n",
    "Sometimes, you may even need a third split of data.\n",
    "This third split is called the *validation dataset* (also called \"validation set\", \"validation split\", or just \"validation\").\n",
    "We won't be going into the details of what the validation split is used for,\n",
    "but (if it exists) it is generally the same size as the test split and used to train [hyperparameters](https://en.wikipedia.org/wiki/Hyperparameter).\n",
    "Hyperparameters are options that are at a higher level than normal model parameters\n",
    "(like the option of which machine learning model to use).\n",
    "\n",
    "There is no exact number or percent that decides how much of your data should be in train vs test.\n",
    "It just depends on your domain and how much data you have available.\n",
    "If there are no special circumstances, putting aside 10% - 25% of your data for testing typically works well.\n",
    "\n",
    "sklearn has a very simple function available that will split data for you:\n",
    "[sklearn.model_selection.train_test_split](https://scikit-learn.org/stable/modules/generated/sklearn.model_selection.train_test_split.html).\n",
    "If you have more complex data, splitting by hand should is fairly straightforward\n",
    "(just make sure you don't skip data points or double include them in both splits)."
   ]
  },
  {
   "cell_type": "markdown",
   "metadata": {
    "colab_type": "text",
    "id": "PVRA0kwnvhLS"
   },
   "source": [
    "<h3 style=\"color: darkorange; font-size: x-large\";>★ Task 2.B</h3>\n",
    "\n",
    "Complete the function below that splits the passed in dataset (created by `slice_labels()`) into training and test data with the specified size.\n",
    "You may assume that the specified size will always be smaller than the size of the dataset.\n",
    "The returned collections should be DataFrames for features and Series for labels (as in `slice_labels()`).\n",
    "\n",
    "Note: `split_data()` should not change the ordering of the features and labels (for testing purposes)."
   ]
  },
  {
   "cell_type": "code",
   "execution_count": null,
   "metadata": {
    "colab": {},
    "colab_type": "code",
    "id": "FEV4mIcpvhLS"
   },
   "outputs": [],
   "source": [
    "def split_data(features, labels, num_train):\n",
    "    \"\"\"\n",
    "    Split the incoming dataset into train and test portions that preserve the original orderings of features and labels.\n",
    "    \n",
    "    Returns:\n",
    "        X_train - The first num_train rows of X (features).\n",
    "        X_test - The remaining rows of X (features).\n",
    "        Y_train - The first num_train rows of Y (labels).\n",
    "        Y_test - The remaining rows of Y (labels).\n",
    "    \"\"\"\n",
    "\n",
    "    return NotImplemented, NotImplemented, NotImplemented, NotImplemented\n",
    "    \n",
    "communities_features_train, communities_features_test, communities_labels_train, communities_labels_test = split_data(communities_features, communities_labels, 1000)\n",
    "\n",
    "# Use dummy data if the above function is not yet implemented.\n",
    "if (communities_features_train is NotImplemented):\n",
    "    print(\"Using fake splits!\")\n",
    "    communities_features_train = communities_features\n",
    "    communities_features_test = communities_features\n",
    "    communities_labels_train = communities_labels\n",
    "    communities_labels_test = communities_labels\n",
    "\n",
    "print(\"Num Train Features: %d\" % (len(communities_features_train)))\n",
    "print(\"Num Train Labels: %d\" % (len(communities_labels_train)))\n",
    "print(\"Num Test Features: %d\" % (len(communities_features_test)))\n",
    "print(\"Num Test Labels: %d\" % (len(communities_labels_test)))"
   ]
  },
  {
   "cell_type": "markdown",
   "metadata": {},
   "source": [
    "<h3 style=\"color: green; font-size: x-large\";>♦ Group Break</h3>\n",
    "\n",
    "Take a moment to discuss the data and splitting process with your group.\n",
    "\n",
    "Some potential things to discuss with your group:\n",
    " - Why did we shuffle the data?\n",
    "     - Does shuffling affect our splits?\n",
    "     - Can we just shuffle after splitting?\n",
    " - Our label, `ViolentCrimesPerPop`, is a binary value that represents whether or not there is \"a high rate of violent crime in the community\".\n",
    "     - Where is the cutoff?\n",
    "     - Who determines what a \"high rate\" is?\n",
    "     - Could the choice of threshold for determining a \"high rate\" be made in an unethical way?"
   ]
  },
  {
   "cell_type": "markdown",
   "metadata": {
    "colab_type": "text",
    "id": "YFMuZppWvhLU"
   },
   "source": [
    "## Part 3: Training/Fitting a Model\n",
    "\n",
    "scikit-learn (`sklearn`) is probably the most popular machine learning library for Python.\n",
    "Therefore, it's the go-to choice for us to use in the course.\n",
    "Since the focus of this course is not on the technical practice of machine learning,\n",
    "we will not be going into details on every step in the implementation of a model\n",
    "(as those are covered in the recommended course requirements for this course).\n",
    "However, here are some scikit-learn resources if you need an introduction or refresher:\n",
    " - [scikit-learn Homepage](https://scikit-learn.org/stable/index.html)\n",
    " - [API Documentation](https://scikit-learn.org/stable/modules/classes.html)\n",
    " - [Official User Guide](https://scikit-learn.org/stable/user_guide.html)\n",
    " - [Official Examples](https://scikit-learn.org/stable/auto_examples/index.html)\n",
    " - [Recommended Text Tutorial](https://scikit-learn.org/stable/getting_started.html)\n",
    " - [Recommended Video Tutorial](https://www.youtube.com/watch?v=0B5eIE_1vpU)\n",
    "\n",
    "Training is one of the core parts of the machine learning pipeline and is when we adjust our machine learning model based on our training data.\n",
    "You can say that this is the actual \"learning\" part of machine learning.\n",
    "(\"Learning\" is in quotes here because machine learning is **VERY** different from the how humans learn and pretty much any biological or physiological concept of learning.\n",
    "A better name for machine learning is probably something like \"computerized pattern recognition\" (*this name is only Eriq's opinion*).)\n",
    "In training (also called \"fitting\"), we give our machine learning model access to our training set so it can find patterns in the data.\n",
    "Once our model is trained/fitted, then it should be able to make predictions on data it has not seen before.\n",
    "\n",
    "In this assignment, we will be using two orthogonal machine learning algorithms:\n",
    "[Logistic Regression](https://en.wikipedia.org/wiki/Logistic_regression)\n",
    "and [Decision Trees](https://en.wikipedia.org/wiki/Decision_tree_learning).\n",
    "Although both are supervised machine learning techniques,\n",
    "they learn patterns in the data in very different ways.\n",
    "Logistic Regression fits a single continuous function to the data and uses training to tweak the parameters of that function.\n",
    "Whereas Decision Trees builds a structure called a \"decision tree\" so sort the data into different bins.\n",
    "(Note that here we are collectively discussing a family of techniques for generating decision trees,\n",
    "but in practice we will need to choose a specific algorithm (or let scikit-learn choose one for us).)\n",
    "\n",
    "Before we train our own models, we are going to define a dummy model.\n",
    "This will only be used in case you have not yet implemented different parts of this assignment.\n",
    "You can totally ignore this (or look at it, your choice)."
   ]
  },
  {
   "cell_type": "code",
   "execution_count": null,
   "metadata": {},
   "outputs": [],
   "source": [
    "# You can ignore this, it is just a dummy classifier/model.\n",
    "class DummyClassifier(sklearn.base.BaseEstimator):\n",
    "    def __init__(self, choices = [0, 1]):\n",
    "        self._choices = choices.copy()\n",
    "\n",
    "    def fit(self, train_features, train_labels):\n",
    "        pass\n",
    "\n",
    "    def predict(self, test_features):\n",
    "        return [random.choice(self._choices) for _ in range(len(test_features))]\n",
    "        \n",
    "    def score(self, test_features, test_labels):\n",
    "        return 0.0"
   ]
  },
  {
   "cell_type": "markdown",
   "metadata": {},
   "source": [
    "<h3 style=\"color: darkorange; font-size: x-large\";>★ Task 3.A</h3>\n",
    "\n",
    "Complete the function below which takes in a training dataset, and returns a **trained** Logistic Regression model.\n",
    "The returned model should be a [sklearn.linear_model.LogisticRegression](https://scikit-learn.org/stable/modules/generated/sklearn.linear_model.LogisticRegression.html).\n",
    "You should use all the default constructor options."
   ]
  },
  {
   "cell_type": "code",
   "execution_count": null,
   "metadata": {},
   "outputs": [],
   "source": [
    "def get_trained_lr(features, labels):\n",
    "    \"\"\"\n",
    "    Take in a training dataset, and return a Logistic Regression model trained on that dataset.\n",
    "    \n",
    "    Returns:\n",
    "        A trained Logistic Regression model (sklearn.linear_model.LogisticRegression).\n",
    "    \"\"\"\n",
    "\n",
    "    return NotImplemented\n",
    "\n",
    "trained_lr = get_trained_lr(communities_features_train, communities_labels_train)\n",
    "\n",
    "# Use a dummy model if the above function is not yet implemented.\n",
    "if (trained_lr is NotImplemented):\n",
    "    print(\"Using fake model!\")\n",
    "    trained_lr = DummyClassifier()\n",
    "\n",
    "train_predictions = trained_lr.predict(communities_features_train)\n",
    "test_predictions = trained_lr.predict(communities_features_test)\n",
    "\n",
    "print(\"First 10 train predictions: \", train_predictions[:10])\n",
    "print(\"First 10 test predictions:  \", test_predictions[:10])"
   ]
  },
  {
   "cell_type": "markdown",
   "metadata": {},
   "source": [
    "Nice!\n",
    "Look at those predictions.\n",
    "\n",
    "Now do the same thing using Decision Trees."
   ]
  },
  {
   "cell_type": "markdown",
   "metadata": {},
   "source": [
    "<h3 style=\"color: darkorange; font-size: x-large\";>★ Task 3.B</h3>\n",
    "\n",
    "Complete the function below which takes in a training dataset and optional max depth,\n",
    "and returns a **trained** Decision Tree model.\n",
    "The returned model should be a [sklearn.tree.DecisionTreeClassifier](https://scikit-learn.org/stable/modules/generated/sklearn.tree.DecisionTreeClassifier.html).\n",
    "You should use all the default constructor options,\n",
    "except for `max_depth` which should be taken in as an optional parameter."
   ]
  },
  {
   "cell_type": "code",
   "execution_count": null,
   "metadata": {},
   "outputs": [],
   "source": [
    "def get_trained_dt(features, labels, max_depth = 5):\n",
    "    \"\"\"\n",
    "    Take in a training dataset and max depth, and return a Decision Tree model trained on that dataset.\n",
    "    \n",
    "    Returns:\n",
    "        A trained Decition Tree model (sklearn.tree.DecisionTreeClassifier).\n",
    "    \"\"\"\n",
    "\n",
    "    return NotImplemented\n",
    "\n",
    "trained_dt = get_trained_dt(communities_features_train, communities_labels_train)\n",
    "\n",
    "# Use a dummy model if the above function is not yet implemented.\n",
    "if (trained_dt is NotImplemented):\n",
    "    print(\"Using fake model!\")\n",
    "    trained_dt = DummyClassifier()\n",
    "\n",
    "train_predictions = trained_dt.predict(communities_features_train)\n",
    "test_predictions = trained_dt.predict(communities_features_test)\n",
    "\n",
    "print(\"First 10 train predictions: \", train_predictions[:10])\n",
    "print(\"First 10 test predictions:  \", test_predictions[:10])"
   ]
  },
  {
   "cell_type": "markdown",
   "metadata": {},
   "source": [
    "Now that we have models that can make predictions, we will want to see how our models are doing.\n",
    "To evaluate our model's performance, we can use [evaluation metrics](https://en.wikipedia.org/wiki/Evaluation_of_binary_classifiers#Single_metrics),\n",
    "which are numbers that quantify predictive performance (how well our predictions match reality).\n",
    "There are [dozens of evaluation metrics](https://scikit-learn.org/stable/modules/model_evaluation.html) available in scikit-learn,\n",
    "and hundreds of recognized useful metrics.\n",
    "But for this lab, we are going to keep it simple and use mean accuracy available via our models' `score()` method.\n",
    "\n",
    "In real-world situations,\n",
    "deciding on an evaluation metric is one of the most important decisions made for a dataset/problem.\n",
    "Choosing the correct evaluation metric impacts many downstream decisions and can determine if your models are ultimately successful when deployed."
   ]
  },
  {
   "cell_type": "code",
   "execution_count": null,
   "metadata": {},
   "outputs": [],
   "source": [
    "print(\"Logistic Regression Score: \", trained_lr.score(communities_features_test, communities_labels_test))\n",
    "print(\"Decision Trees Score:      \", trained_dt.score(communities_features_test, communities_labels_test))"
   ]
  },
  {
   "cell_type": "markdown",
   "metadata": {},
   "source": [
    "<h3 style=\"color: green; font-size: x-large\";>♦ Group Break</h3>\n",
    "\n",
    "Take a moment to discuss the training/fitting process with your group.\n",
    "\n",
    "Some potential things to discuss with your group:\n",
    " - Why do we need more than one supervised machine learning algorithm?\n",
    " - Are there any traits of a dataset that would make Logistic Regression better than Decision Trees, or visa versa?\n",
    " - What if my decision tree is infinitely big (or at least had as many leafs as training data points)?"
   ]
  },
  {
   "cell_type": "markdown",
   "metadata": {
    "colab_type": "text",
    "id": "Tqd00jXqvhLf"
   },
   "source": [
    "## Part 4: Visualizing Trade-Offs\n",
    "\n",
    "One of the most important things in machine learning is analyzing trade-offs.\n",
    "There will be countless decisions you have to make about your data, model, evaluation, visualization, and other things.\n",
    "Being able to conceptualize (and hopefully even visualize) these trade-offs is critical to making good models.\n",
    "In this section, we will explore just a few of these trade-offs and how we can visualize them."
   ]
  },
  {
   "cell_type": "markdown",
   "metadata": {
    "colab_type": "text",
    "id": "89Iuyv30vhLi"
   },
   "source": [
    "<h3 style=\"color: darkorange; font-size: x-large\";>★ Task 4.A</h3>\n",
    "\n",
    "In this task, we will explore the trade-off of training set size.\n",
    "Data is one of our most valuable resources, and it can be costly to acquire (and label).\n",
    "So, we are constantly trying to see how our models will perform when only given small amounts of data.\n",
    "\n",
    "Complete the following function which will train a Logistic Regression and Decision Tree model on the passed in dataset with each of the specified training sizes.\n",
    "This function should return two lists that contain the accuracy (via the `score()` method) of each model for each training set size.\n",
    "Ensure that you use the test (not train) data to score each model.\n",
    "\n",
    "Make sure to use the functions that you have already implemented."
   ]
  },
  {
   "cell_type": "code",
   "execution_count": null,
   "metadata": {},
   "outputs": [],
   "source": [
    "def get_train_size_scores(features, labels, train_sizes):\n",
    "    \"\"\"\n",
    "    Create and train models for each of the specified training set sizes,\n",
    "    and return the resulting scores for Logistic Regression and Decision Trees.\n",
    "\n",
    "    Returns:\n",
    "        A list of scores (one for each training set size) for a trained Logistic Regression model.\n",
    "        A list of scores (one for each training set size) for a trained Decision Trees model.\n",
    "    \"\"\"\n",
    "\n",
    "    return NotImplemented, NotImplemented\n",
    "\n",
    "train_sizes = list(range(10, 1010, 10))\n",
    "lr_scores, dt_scores = get_train_size_scores(communities_features, communities_labels, train_sizes)\n",
    "\n",
    "if (lr_scores is NotImplemented):\n",
    "    print(\"Function not implemented, using fake data!\")\n",
    "    lr_scores = [random.random() for _ in range(len(train_sizes))]\n",
    "    dt_scores = [random.random() for _ in range(len(train_sizes))]\n",
    "\n",
    "# Plot the results.\n",
    "matplotlib.pyplot.title('Training Set Size vs Score')\n",
    "matplotlib.pyplot.xlabel('Training Set Size')\n",
    "matplotlib.pyplot.ylabel('Model Score')\n",
    "\n",
    "matplotlib.pyplot.plot(train_sizes, lr_scores, color = 'red', label = 'Logistic Regression')\n",
    "matplotlib.pyplot.plot(train_sizes, dt_scores, color = 'blue', label = 'Decision Trees', linestyle = 'dashed')\n",
    "matplotlib.pyplot.legend()\n",
    "\n",
    "matplotlib.pyplot.show()"
   ]
  },
  {
   "cell_type": "markdown",
   "metadata": {},
   "source": [
    "Here you should be able to see that the scores for each model starts pretty low,\n",
    "but then increases as more training data is added.\n",
    "At some point we see that the model stops improving and the score more-or-less stays the same.\n",
    "\n",
    "Note that the amount of data we have is relatively low by machine learning standards,\n",
    "so that is why our plot is a bit bumpy.\n",
    "The more data you get, the more precise view you can get on your performance.\n",
    "\n",
    "Also note that in this specific problem, we only needed a few hundred points in our training set.\n",
    "For other machine learning problems, it is not unusual to require orders of magnitude more training data."
   ]
  },
  {
   "cell_type": "markdown",
   "metadata": {},
   "source": [
    "<h3 style=\"color: darkorange; font-size: x-large\";>★ Task 4.B</h3>\n",
    "\n",
    "In this task, we will explore the trade-off of model complexity.\n",
    "Part of the process for picking what machine learning model/algorithm to use also involves deciding how \"complex\" to make our model.\n",
    "Complexity can be a difficulty topic for beginners to quantify, but we can roughly think about complex models as having a lot of parameters/components.\n",
    "For example, we can say that a very \"simple\" decision tree for our data has one non-leaf (decision) node with two children: 1 and 0.\n",
    "Whereas a \"complex\" decision tree and have hundreds of decision nodes with dozens of leafs.\n",
    "Complex models can be nice, because they can capture natural complexities and nuances in our data.\n",
    "However, complex models can also be bad because instead of learning general patterns then may learn patterns that are specific to our training data\n",
    "(and not all general data).\n",
    "\n",
    "Complete the following function which will train a Decision Tree model on the passed in dataset with each of the specified max depths.\n",
    "\n",
    "This function should return two lists that contain the accuracy (via the `score()` method) of each model for each training set size.\n",
    "Ensure that you use the test (not train) data to score each model.\n",
    "\n",
    "This function should return two lists that contain the accuracy (via the `score()` method) of each instance of the Decision Tree model with each corresponding max depth.\n",
    "The **first list** should contain the result of scoring the model on **training data**.\n",
    "The **second list** should contain the result of scoring the model on **test data**.\n",
    "(If you are new to ML, the first list may seem unusual.\n",
    "Why score a model on data it was just trained on?\n",
    "This will hopefully make more sense when you see the resulting data plotted.)\n",
    "\n",
    "Make sure to use the functions that you have already implemented."
   ]
  },
  {
   "cell_type": "code",
   "execution_count": null,
   "metadata": {},
   "outputs": [],
   "source": [
    "def get_dt_max_depth_scores(features, labels, max_depths, train_size = 1000):\n",
    "    \"\"\"\n",
    "    Create and train Decision Tree models for each of the specified max depths,\n",
    "    and return the resulting scores (on train and test data).\n",
    "\n",
    "    Returns:\n",
    "        A list of scores (one for each max depth) for a trained Decision Trees model, scored on the training data.\n",
    "        A list of scores (one for each max depth) for a trained Decision Trees model, scored on the test data.\n",
    "    \"\"\"\n",
    "\n",
    "    return NotImplemented, NotImplemented\n",
    "\n",
    "max_depths = list(range(1, 21))\n",
    "train_scores, test_scores = get_dt_max_depth_scores(communities_features, communities_labels, max_depths)\n",
    "\n",
    "if (train_scores is NotImplemented):\n",
    "    print(\"Function not implemented, using fake data!\")\n",
    "    train_scores = [random.random() for _ in range(len(max_depths))]\n",
    "    test_scores = [random.random() for _ in range(len(max_depths))]\n",
    "\n",
    "# Plot the results.\n",
    "matplotlib.pyplot.title('Max Depth vs Score')\n",
    "matplotlib.pyplot.xlabel('Max Depth')\n",
    "matplotlib.pyplot.ylabel('Model Score')\n",
    "\n",
    "matplotlib.pyplot.plot(max_depths, train_scores, color = 'green', label = 'Training Score')\n",
    "matplotlib.pyplot.plot(max_depths, test_scores, color = 'blue', label = 'Test Score', linestyle = 'dashed')\n",
    "matplotlib.pyplot.legend()\n",
    "\n",
    "matplotlib.pyplot.show()"
   ]
  },
  {
   "cell_type": "markdown",
   "metadata": {},
   "source": [
    "There is a few very interesting things going on in this graph.\n",
    "If we look at the test score (which we looked at in Task 4.A),\n",
    "we can see that the score starts lower, reaches its peak, but then starts to actually get worse.\n",
    "So our model actually gets worse if we make it too complex.\n",
    "\n",
    "To see why out model gets worse, we can look at the green line: the score on the training data.\n",
    "Looking at this line, we can see that it just increases as the model becomes more complex until it plateaus off at 100%.\n",
    "What we are actually looking at is the model becoming so complex that it learns all the tiny details that are present in the training set,\n",
    "but that are not specific to all the data.\n",
    "Like if we wanted to draw conclusions about all undergraduate students just by looking at the students in this course.\n",
    "Because the sample is not necessarily representative of all undergraduate students,\n",
    "if we get too complex we may learn patterns that do not hold for all undergraduate students."
   ]
  },
  {
   "cell_type": "markdown",
   "metadata": {},
   "source": [
    "<h3 style=\"color: green; font-size: x-large\";>♦ Group Break</h3>\n",
    "\n",
    "Take a moment to discuss trade-offs made in machine learning.\n",
    "\n",
    "Some potential things to discuss with your group:\n",
    " - Can you always choose the correct point for a trade-off (e.g., can you always choose the correct number of data points to use for training)?\n",
    " - In Task 4.A, is there anything we could do to smooth out our plot with the data we have?\n",
    "     - Here we are not looking just to visually smooth our our plot by taking a different number of samples, but to actually improve the quality of our results.\n",
    " - Is it always bad for training error to go to zero (or training accuracy to go to 100%)?\n",
    " - What would it take to get a representative sample of undergraduate students?"
   ]
  },
  {
   "cell_type": "markdown",
   "metadata": {
    "colab_type": "text",
    "id": "xPFIHnytvhLm"
   },
   "source": [
    "## Part 5: Observing Error Disparities\n",
    "\n",
    "We we train our model on some dataset,\n",
    "we say that the trained model has some error associated with it.\n",
    "So far in this lab, we have been using accuracy (from the `score()` method),\n",
    "but we can convert this into an error by subtracting that from $ 1.0 $.\n",
    "For example, a score of $ 0.75 $ is an error of $ 1.0 - 0.75 = 0.25 $.\n",
    "When doing more formal work we may use a more robust error metric,\n",
    "but there will always be a link between a score you are trying to maximize (e.g., we want a high accuracy)\n",
    "and an error/loss that you want to minimize.\n",
    "\n",
    "Sometimes it can be useful to see if our model is performing the same on different populations,\n",
    "or groups in our dataset.\n",
    "We can compute the disparity between these two groups by taking the absolute value of the difference in error between the same model tested on the different groups.\n",
    "For example if we had an image classifier,\n",
    "it could be useful to see if our model performs equally well for dogs and cats.\n",
    "If we see a disparity, then that may tell us we need more training images of the respective animal.\n",
    "\n",
    "Let's start looking for disparities in our data by creating the groups that we will look for disparities between."
   ]
  },
  {
   "cell_type": "markdown",
   "metadata": {},
   "source": [
    "<h3 style=\"color: darkorange; font-size: x-large\";>★ Task 5.A</h3>\n",
    "\n",
    "Complete the following function which will take in a DataFrame, column name, and threshold.\n",
    "The function will then return the data split into two groups based on the value in the specified column in relation to the threshold.\n",
    "\n",
    "The passed in DataFrame should not be modified."
   ]
  },
  {
   "cell_type": "code",
   "execution_count": null,
   "metadata": {},
   "outputs": [],
   "source": [
    "def split_on_column(frame, column_name, threshold):\n",
    "    \"\"\"\n",
    "    Take in a DataFrame, column name, and threshold;\n",
    "    and return two DataFrames that are split based on the specified column's value.\n",
    "    \n",
    "    Returns:\n",
    "        A Pandas DataFrame that contains all rows where the specified column are less than the threshold.\n",
    "        A Pandas DataFrame that contains all rows where the specified column are greater than or equal to the threshold.\n",
    "    \"\"\"\n",
    "\n",
    "    return NotImplemented, NotImplemented\n",
    "\n",
    "under_group, over_group = split_on_column(communities_data, 'population', 0.05)\n",
    "\n",
    "if (under_group is NotImplemented):\n",
    "    print(\"Function not implemented.\")\n",
    "else:\n",
    "    print(\"Size of under group: '%d'.\" % (len(under_group)))\n",
    "    print(\"Size of over group: '%d'.\" % (len(over_group)))"
   ]
  },
  {
   "cell_type": "markdown",
   "metadata": {},
   "source": [
    "Now that we can split data based on a column and threshold,\n",
    "we can start to dive deep into our data and look for disparities."
   ]
  },
  {
   "cell_type": "markdown",
   "metadata": {},
   "source": [
    "<h3 style=\"color: darkorange; font-size: x-large\";>★ Task 5.B</h3>\n",
    "\n",
    "Complete the following function which will take in a DataFrame, column name, and label column name;\n",
    "and compute the score disparity (using the `score()` method) between the two groups.\n",
    "\n",
    "Include all the following notes when implementing your function:\n",
    " - When splitting **each** group into train and test sets, use a 50/50 split (half the data is train and half is test).\n",
    " - Use the mean value of the column as the threshold for splitting into groups.\n",
    "     - The [Pandas Series.mean()](https://pandas.pydata.org/pandas-docs/stable/reference/api/pandas.Series.mean.html) method should be very useful here.\n",
    " - Use your standard Logistic Regression classifier (`get_trained_lr()`).\n",
    " - You can assume that your groups will always contain multiple labels.\n",
    "     - It is possible the splitting a group may result in one group only have one label represented.\n",
    "     - scikit-learn will raise an exception in this case, just let that exception be raised.\n",
    " - Make sure to use the functions that you have already implemented."
   ]
  },
  {
   "cell_type": "code",
   "execution_count": null,
   "metadata": {},
   "outputs": [],
   "source": [
    "def compute_disparity(frame, column_name, label_column_name):\n",
    "    \"\"\"\n",
    "    Compute the disparity for a specific column in a DataFrame.\n",
    "\n",
    "    Returns:\n",
    "        The disparity for the specified column.\n",
    "    \"\"\"\n",
    "\n",
    "    return NotImplemented\n",
    "\n",
    "disparity = compute_disparity(communities_data, 'population', 'ViolentCrimesPerPop')\n",
    "if (disparity is NotImplemented):\n",
    "    print(\"Function not implemented.\")\n",
    "else:\n",
    "    print(\"Disparity on the population column: %0.4f.\" % (disparity))"
   ]
  },
  {
   "cell_type": "markdown",
   "metadata": {},
   "source": [
    "Now that we can compute the disparity for one column, we can compute it for all columns!"
   ]
  },
  {
   "cell_type": "code",
   "execution_count": null,
   "metadata": {},
   "outputs": [],
   "source": [
    "# Get all the column names.\n",
    "feature_names = list(communities_features.columns)\n",
    "disparities = []\n",
    "\n",
    "# Compute the disparity for each column.\n",
    "for feature_name in feature_names:\n",
    "    try:\n",
    "        disparity = compute_disparity(communities_data, feature_name, 'ViolentCrimesPerPop')\n",
    "    except:\n",
    "        disparity = numpy.nan\n",
    "        \n",
    "    if (disparity is NotImplemented):\n",
    "        disparity = numpy.nan\n",
    "        \n",
    "    disparities.append(disparity)\n",
    "\n",
    "# Merge the names and disparities into one list and sort by disparity (descending).\n",
    "sorted_pairs = sorted(zip(disparities, feature_names), reverse = True)\n",
    "    \n",
    "print(\"Disparities:\")\n",
    "for (disparity, feature_name) in sorted_pairs:\n",
    "    print(\"    %s -- %0.4f\" % (feature_name, disparity))"
   ]
  },
  {
   "cell_type": "markdown",
   "metadata": {},
   "source": [
    "Here we can see all the columns in our dataset ordered by disparities.\n",
    "Note that we don't know which direction the disparity goes: does it favor the under group or over group?\n",
    "All we know is that a high disparity means that the two groups are not being treated the same.\n",
    "Concerningly, we see a lot of high disparities on racial attributes."
   ]
  },
  {
   "cell_type": "markdown",
   "metadata": {
    "colab_type": "text",
    "id": "MGwU5_u8vhLq"
   },
   "source": [
    "### Error Rate Disparities\n",
    "\n",
    "Instead of error disparities, let's compute two other types of errors that are of interest to us:\n",
    "False Negative Disparity (also called False Negative Error Rate Balance)\n",
    "and False Positive Disparity (also called False Positive Error Rate Balance).\n",
    "Both of these disparities fall under the category of [Fairness Metrics](https://en.wikipedia.org/wiki/Fairness_(machine_learning)#Definitions_based_on_predicted_and_actual_outcomes).\n",
    "These metrics will tell how about the gap in errors between two groups.\n",
    "Essentially, how more likely are we to make types of mistakes for different groups of people.\n",
    "\n",
    "To compute these metrics, we first need to be able to categorize each of our predictions outcomes.\n",
    "To do this, we can use a tool called a [Confusion Matrix](https://en.wikipedia.org/wiki/Confusion_matrix) or \"contingency table\".\n",
    "Confusion matrices allow us to categorize the results from a binary classifier into four different buckets that are more specific than just \"right\" and \"wrong\".\n",
    "\n",
    "<center><img src=\"confusion-matrix.png\"/></center>\n",
    "<center style='font-size: small'>Image courtesy of <a href='https://en.wikipedia.org/wiki/Confusion_matrix'>Wikipedia</a> 2024-03-20.</center>\n",
    "\n",
    " - True Positives (TP) -- Also called a \"hit\". Represent instances that were correctly classified as positive/true.\n",
    " - True Negatives (TN) -- Also called a \"correct rejection\". Represent instances that were correctly classified as negative/false.\n",
    " - False Positives (FP) -- Also called a \"Type I Error\" or \"false alarm\". Represent instances that were incorrectly classified as positive/true.\n",
    " - False Negatives (FN) -- Also called a \"Type II Error\" or \"miss\". Represent instances that were incorrectly classified as negative/false.\n",
    "\n",
    "Using these four values, we can compute all sorts of [useful statistics](https://en.wikipedia.org/wiki/Binary_classification#The_eight_basic_ratios),\n",
    "including the False Negative Rate (FNR) and False Positive Rate (FPR) that we need for the above disparities.\n",
    "\n",
    "| Metric              | Short Name | Definition                 |\n",
    "| ------------------- | ---------- | -------------------------- |\n",
    "| False Negative Rate | FNR        | $$ \\frac{FN}{(TP + FN)} $$ |\n",
    "| False Positive Rate | FPR        | $$ \\frac{FP}{(TN + FP)} $$ |"
   ]
  },
  {
   "cell_type": "markdown",
   "metadata": {},
   "source": [
    "<h3 style=\"color: darkorange; font-size: x-large\";>★ Task 5.C</h3>\n",
    "\n",
    "Complete the following function which will take in a DataFrame, column name, and label column name;\n",
    "and compute the FNR and FPR disparities between the two groups.\n",
    "This function has all the same semantics as `compute_disparity()`,\n",
    "but returns two values based on FNR and FPR (respectively) instead of `score()`.\n",
    "\n",
    "If any FNR/FPR computation will return in a division by zero,\n",
    "use `nunmpy.nan` instead.\n",
    "\n",
    "You may find the [sklearn.metrics.confusion_matrix](https://scikit-learn.org/stable/modules/generated/sklearn.metrics.confusion_matrix.html) function useful here."
   ]
  },
  {
   "cell_type": "code",
   "execution_count": null,
   "metadata": {},
   "outputs": [],
   "source": [
    "def compute_confusion_disparity(frame, column_name, label_column_name):\n",
    "    \"\"\"\n",
    "    Compute the FNR and FPR disparities for a specific column in a DataFrame.\n",
    "\n",
    "    Returns:\n",
    "        The FNR disparity for the specified column.\n",
    "        The FPR disparity for the specified column.\n",
    "    \"\"\"\n",
    "\n",
    "    return NotImplemented, NotImplemented\n",
    "\n",
    "fnr_disparity, fpr_disparity = compute_confusion_disparity(communities_data, 'population', 'ViolentCrimesPerPop')\n",
    "if (fnr_disparity is NotImplemented):\n",
    "    print(\"Function not implemented.\")\n",
    "else:\n",
    "    print(\"FNR disparity on the population column: %0.4f.\" % (fnr_disparity))\n",
    "    print(\"FPR disparity on the population column: %0.4f.\" % (fpr_disparity))"
   ]
  },
  {
   "cell_type": "markdown",
   "metadata": {},
   "source": [
    "With these additional metrics, we can take a closer look at some of the concerning columns that have high disparities in our data.\n",
    "Three of the four racial columns had high disparities, so let's take a look at those."
   ]
  },
  {
   "cell_type": "code",
   "execution_count": null,
   "metadata": {},
   "outputs": [],
   "source": [
    "# Get all race* columns.\n",
    "column_names = sorted([column_name for column_name in communities_features.columns if str(column_name).startswith('race')])\n",
    "\n",
    "headers = [\n",
    "    \"column\",\n",
    "    \"Score Disparity\",\n",
    "    \"FNR Disparity\",\n",
    "    \"FPR Disparity\",\n",
    "]\n",
    "\n",
    "print(\"\\t\".join(headers))\n",
    "\n",
    "# Compute the disparities for each column.\n",
    "for column_name in column_names:\n",
    "    score_disparity = compute_disparity(communities_data, column_name, 'ViolentCrimesPerPop')\n",
    "    fnr_disparity, fpr_disparity = compute_confusion_disparity(communities_data, column_name, 'ViolentCrimesPerPop')\n",
    "    \n",
    "    if ((score_disparity is NotImplemented) or (fnr_disparity is NotImplemented)):\n",
    "        print(\"Functions not implemented.\")\n",
    "        continue\n",
    "        \n",
    "    row = [column_name] + [\"%0.4f\" % (value) for value in [score_disparity, fnr_disparity, fpr_disparity]]\n",
    "    print(\"\\t\".join(row))"
   ]
  },
  {
   "cell_type": "markdown",
   "metadata": {},
   "source": [
    "There is a lot of interesting things going on in these metrics that you will discuss with your group and class.\n",
    "But for now, just look at the largest number (assuming your code is implemented correctly):\n",
    "FNR Disparity for the \"racePctWhite\" column at 0.70.\n",
    "Not only is this a huge disparity, but it reveals a troubling pattern in our data.\n",
    "Areas with predominantly white residents are more likely to be **incorrectly** given the negative class (\"low violent crime\")\n",
    "than areas that do not have predominantly white residents."
   ]
  },
  {
   "cell_type": "markdown",
   "metadata": {},
   "source": [
    "<h3 style=\"color: green; font-size: x-large\";>♦ Group Break</h3>\n",
    "\n",
    "Take a moment to discuss some of these metrics you have computed in this data,\n",
    "and their ethical ramifications.\n",
    "\n",
    "Some potential things to discuss with your group:\n",
    " - Does any of this actually matter?\n",
    "     - So what if some stats are biased, does this actually affect people's lives?\n",
    "     - In what ways can these skewed statistics impact people's lives?\n",
    " - Are the different type of classification errors (FP and FN) equivalent (equally bad)?\n",
    "     - Are they equally harmful?\n",
    " - Why is there disparity in these racial statistics?"
   ]
  },
  {
   "cell_type": "markdown",
   "metadata": {
    "colab_type": "text",
    "id": "3TyI1c1uvhLu"
   },
   "source": [
    "## Part 6: Short Response Questions\n",
    "\n",
    "Please go to Canvas to enter your group's responses to the following questions."
   ]
  },
  {
   "cell_type": "markdown",
   "metadata": {
    "colab_type": "text",
    "id": "y1DZt_wYvhLu"
   },
   "source": [
    "#### Q1\n",
    "\n",
    "When training a machine learning model with some dataset, what are some assumptions we are making about the data?\n",
    "What are some things that it is important for us not to assume? Please give a few examples for each."
   ]
  },
  {
   "cell_type": "markdown",
   "metadata": {
    "colab_type": "text",
    "id": "pE41hbB5vhLv"
   },
   "source": [
    "#### Q2\n",
    "\n",
    "Why is it important to evaluate our model on data which was not used in training?\n",
    "Why are there different error rates for train and test data?"
   ]
  },
  {
   "cell_type": "markdown",
   "metadata": {
    "colab_type": "text",
    "id": "wYyxHEH2vhLw"
   },
   "source": [
    "#### Q3\n",
    "\n",
    "In your own words, explain the results of your plot from Task 4.A.\n",
    "Why does it make sense that these results occur?"
   ]
  },
  {
   "cell_type": "markdown",
   "metadata": {
    "colab_type": "text",
    "id": "ERGdRbWYvhLw"
   },
   "source": [
    "#### Q4\n",
    "\n",
    "In your own words, explain the results of your plot from Task 4.B.\n",
    "Why does it make sense that these results occur?"
   ]
  },
  {
   "cell_type": "markdown",
   "metadata": {
    "colab_type": "text",
    "id": "W31Qzr74vhLx"
   },
   "source": [
    "#### Q5\n",
    "\n",
    "In your own words, explain what the list of sorted disparities (after Task 5.B) means.\n",
    "What are some possible implications of this model in terms of unfairness?"
   ]
  },
  {
   "cell_type": "markdown",
   "metadata": {
    "colab_type": "text",
    "id": "1UChV9F0vhLz"
   },
   "source": [
    "#### Q6\n",
    "\n",
    "Look through the available features on the [dataset we used](https://archive.ics.uci.edu/dataset/183/communities+and+crime).\n",
    "What are two attributes that you would expect to have high error disparity?\n",
    "What are two attributes you would expect to have low error disparity?"
   ]
  },
  {
   "cell_type": "markdown",
   "metadata": {
    "colab_type": "text",
    "id": "-54DAPpwvhL0"
   },
   "source": [
    "#### Extra Credit\n",
    "\n",
    "Play around with the data and generate some kind of plot that you find interesting.\n",
    "Write a few sentences about your process, what you found, and what you think it suggests about the data.\n",
    "This could be an evaluation of multiple model classes,\n",
    "a statistical analysis of different features,\n",
    "unsupervised analysis,\n",
    "extending the investigation into error discrepancies,\n",
    "or anything else you can think of.\n",
    "\n",
    "Include an image of the plot, a description, and an analysis."
   ]
  }
 ],
 "metadata": {
  "kernelspec": {
   "display_name": "Python 3 (ipykernel)",
   "language": "python",
   "name": "python3"
  },
  "language_info": {
   "codemirror_mode": {
    "name": "ipython",
    "version": 3
   },
   "file_extension": ".py",
   "mimetype": "text/x-python",
   "name": "python",
   "nbconvert_exporter": "python",
   "pygments_lexer": "ipython3",
   "version": "3.11.1"
  }
 },
 "nbformat": 4,
 "nbformat_minor": 4
}
